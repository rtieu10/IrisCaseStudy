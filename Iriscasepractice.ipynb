{
  "cells": [
    {
      "metadata": {
        "trusted": true,
        "scrolled": true
      },
      "cell_type": "code",
      "source": "!pip install --user virtualenv",
      "execution_count": 2,
      "outputs": [
        {
          "output_type": "stream",
          "text": "Collecting virtualenv\n\u001b[?25l  Downloading https://files.pythonhosted.org/packages/84/3a/9d656ec2535fa5f6680d55ef93a05f890bd1b2ad6f2bf97b34a679abf365/virtualenv-20.0.13-py2.py3-none-any.whl (4.6MB)\n\u001b[K     |████████████████████████████████| 4.6MB 28kB/s  eta 0:00:01     |███████▏                        | 1.0MB 3.5MB/s eta 0:00:02     |████████████▋                   | 1.8MB 3.5MB/s eta 0:00:01     |██████████████▉                 | 2.1MB 3.5MB/s eta 0:00:01██████████▋              | 2.5MB 3.5MB/s eta 0:00:01     |████████████████████████▏       | 3.5MB 2.5MB/s eta 0:00:01\n\u001b[?25hCollecting importlib-resources<2,>=1.0; python_version < \"3.7\"\n  Downloading https://files.pythonhosted.org/packages/8f/36/e678bc02cad98e566fbd7e6711ab2f389fc9adfb1edbb9f553eae41f9f97/importlib_resources-1.4.0-py2.py3-none-any.whl\nCollecting appdirs<2,>=1.4.3\n  Downloading https://files.pythonhosted.org/packages/56/eb/810e700ed1349edde4cbdc1b2a21e28cdf115f9faf263f6bbf8447c1abf3/appdirs-1.4.3-py2.py3-none-any.whl\nRequirement already satisfied: six<2,>=1.9.0 in /home/nbuser/anaconda3_420/lib/python3.5/site-packages (from virtualenv) (1.11.0)\nCollecting importlib-metadata<2,>=0.12; python_version < \"3.8\"\n  Downloading https://files.pythonhosted.org/packages/8b/03/a00d504808808912751e64ccf414be53c29cad620e3de2421135fcae3025/importlib_metadata-1.5.0-py2.py3-none-any.whl\nCollecting filelock<4,>=3.0.0\n  Downloading https://files.pythonhosted.org/packages/93/83/71a2ee6158bb9f39a90c0dea1637f81d5eef866e188e1971a1b1ab01a35a/filelock-3.0.12-py3-none-any.whl\nCollecting distlib<1,>=0.3.0\n\u001b[?25l  Downloading https://files.pythonhosted.org/packages/7d/29/694a3a4d7c0e1aef76092e9167fbe372e0f7da055f5dcf4e1313ec21d96a/distlib-0.3.0.zip (571kB)\n\u001b[K     |████████████████████████████████| 573kB 6.9MB/s eta 0:00:01\n\u001b[?25hCollecting zipp>=0.4; python_version < \"3.8\"\n  Downloading https://files.pythonhosted.org/packages/96/0a/67556e9b7782df7118c1f49bdc494da5e5e429c93aa77965f33e81287c8c/zipp-1.2.0-py2.py3-none-any.whl\nBuilding wheels for collected packages: distlib\n  Building wheel for distlib (setup.py) ... \u001b[?25ldone\n\u001b[?25h  Created wheel for distlib: filename=distlib-0.3.0-cp35-none-any.whl size=336971 sha256=1fb7a2c3827e3d4ed2081cb1f6e4af393e28fa9384b162369f9ac0eb8e690612\n  Stored in directory: /home/nbuser/.cache/pip/wheels/6e/e8/db/c73dae4867666e89ba3cfbc4b5c092446f0e584eda6f409cbb\nSuccessfully built distlib\nInstalling collected packages: zipp, importlib-metadata, importlib-resources, appdirs, filelock, distlib, virtualenv\nSuccessfully installed appdirs-1.4.3 distlib-0.3.0 filelock-3.0.12 importlib-metadata-1.5.0 importlib-resources-1.4.0 virtualenv-20.0.13 zipp-1.2.0\n\u001b[33mWARNING: You are using pip version 19.3.1; however, version 20.0.2 is available.\nYou should consider upgrading via the 'pip install --upgrade pip' command.\u001b[0m\n",
          "name": "stdout"
        }
      ]
    },
    {
      "metadata": {
        "trusted": true
      },
      "cell_type": "code",
      "source": "!pip install --upgrade pip",
      "execution_count": 3,
      "outputs": [
        {
          "output_type": "stream",
          "text": "Collecting pip\n\u001b[?25l  Downloading https://files.pythonhosted.org/packages/54/0c/d01aa759fdc501a58f431eb594a17495f15b88da142ce14b5845662c13f3/pip-20.0.2-py2.py3-none-any.whl (1.4MB)\n\u001b[K     |████████████████████████████████| 1.4MB 3.2MB/s eta 0:00:01\n\u001b[?25hInstalling collected packages: pip\n  Found existing installation: pip 19.3.1\n    Uninstalling pip-19.3.1:\n      Successfully uninstalled pip-19.3.1\nSuccessfully installed pip-20.0.2\n",
          "name": "stdout"
        }
      ]
    },
    {
      "metadata": {
        "trusted": true
      },
      "cell_type": "code",
      "source": "!pip install -r binder/requirements.txt",
      "execution_count": 8,
      "outputs": [
        {
          "output_type": "stream",
          "text": "Requirement already satisfied: numpy in /home/nbuser/anaconda3_420/lib/python3.5/site-packages (from -r binder/requirements.txt (line 1)) (1.17.3)\nRequirement already satisfied: pandas in /home/nbuser/anaconda3_420/lib/python3.5/site-packages (from -r binder/requirements.txt (line 2)) (0.19.2)\nRequirement already satisfied: matplotlib in /home/nbuser/anaconda3_420/lib/python3.5/site-packages (from -r binder/requirements.txt (line 3)) (2.1.1)\nRequirement already satisfied: sklearn in /home/nbuser/anaconda3_420/lib/python3.5/site-packages (from -r binder/requirements.txt (line 4)) (0.0)\nRequirement already satisfied: seaborn in /home/nbuser/anaconda3_420/lib/python3.5/site-packages (from -r binder/requirements.txt (line 5)) (0.8)\nRequirement already satisfied: python-dateutil>=2 in /home/nbuser/anaconda3_420/lib/python3.5/site-packages (from pandas->-r binder/requirements.txt (line 2)) (2.8.1)\nRequirement already satisfied: pytz>=2011k in /home/nbuser/anaconda3_420/lib/python3.5/site-packages (from pandas->-r binder/requirements.txt (line 2)) (2016.6.1)\nRequirement already satisfied: six>=1.10 in /home/nbuser/anaconda3_420/lib/python3.5/site-packages (from matplotlib->-r binder/requirements.txt (line 3)) (1.11.0)\nRequirement already satisfied: cycler>=0.10 in /home/nbuser/anaconda3_420/lib/python3.5/site-packages (from matplotlib->-r binder/requirements.txt (line 3)) (0.10.0)\nRequirement already satisfied: pyparsing!=2.0.4,!=2.1.2,!=2.1.6,>=2.0.1 in /home/nbuser/anaconda3_420/lib/python3.5/site-packages (from matplotlib->-r binder/requirements.txt (line 3)) (2.1.4)\nRequirement already satisfied: scikit-learn in /home/nbuser/anaconda3_420/lib/python3.5/site-packages (from sklearn->-r binder/requirements.txt (line 4)) (0.19.1)\nRequirement already satisfied: scipy in /home/nbuser/anaconda3_420/lib/python3.5/site-packages (from seaborn->-r binder/requirements.txt (line 5)) (1.1.0)\n",
          "name": "stdout"
        }
      ]
    },
    {
      "metadata": {
        "trusted": true
      },
      "cell_type": "code",
      "source": "import scipy\nimport numpy\nimport matplotlib\nimport pandas\nfrom sklearn import model_selection\nimport pandas as pd\nfrom sklearn import model_selection\nfrom sklearn.metrics import accuracy_score\nfrom sklearn.linear_model import LogisticRegression\nfrom sklearn.model_selection import cross_val_score\nfrom sklearn.model_selection import StratifiedKFold\nfrom sklearn.tree import DecisionTreeClassifier\nfrom sklearn.neighbors import KNeighborsClassifier\nfrom sklearn.discriminant_analysis import LinearDiscriminantAnalysis\nfrom sklearn.naive_bayes import GaussianNB\nfrom sklearn.svm import SVC\nfrom matplotlib import pyplot\nfrom sklearn.metrics import classification_report\nfrom sklearn.metrics import confusion_matrix\nfrom sklearn.metrics import accuracy_score",
      "execution_count": 28,
      "outputs": []
    },
    {
      "metadata": {
        "trusted": true
      },
      "cell_type": "code",
      "source": "import seaborn as sns \niris = sns.load_dataset('iris')",
      "execution_count": 7,
      "outputs": [
        {
          "output_type": "stream",
          "text": "/home/nbuser/anaconda3_420/lib/python3.5/site-packages/matplotlib/font_manager.py:281: UserWarning: Matplotlib is building the font cache using fc-list. This may take a moment.\n  'Matplotlib is building the font cache using fc-list. '\n",
          "name": "stderr"
        }
      ]
    },
    {
      "metadata": {
        "trusted": true,
        "scrolled": true
      },
      "cell_type": "code",
      "source": "iris.shape #grabs dimensions of the dataset\n#peeking at the data \niris.head()  #shows all rows \n#iris.tail(3) #last three rows, also allows for \"peeking\" at the data ",
      "execution_count": 7,
      "outputs": [
        {
          "output_type": "execute_result",
          "execution_count": 7,
          "data": {
            "text/html": "<div>\n<table border=\"1\" class=\"dataframe\">\n  <thead>\n    <tr style=\"text-align: right;\">\n      <th></th>\n      <th>sepal_length</th>\n      <th>sepal_width</th>\n      <th>petal_length</th>\n      <th>petal_width</th>\n      <th>species</th>\n    </tr>\n  </thead>\n  <tbody>\n    <tr>\n      <th>0</th>\n      <td>5.1</td>\n      <td>3.5</td>\n      <td>1.4</td>\n      <td>0.2</td>\n      <td>setosa</td>\n    </tr>\n    <tr>\n      <th>1</th>\n      <td>4.9</td>\n      <td>3.0</td>\n      <td>1.4</td>\n      <td>0.2</td>\n      <td>setosa</td>\n    </tr>\n    <tr>\n      <th>2</th>\n      <td>4.7</td>\n      <td>3.2</td>\n      <td>1.3</td>\n      <td>0.2</td>\n      <td>setosa</td>\n    </tr>\n    <tr>\n      <th>3</th>\n      <td>4.6</td>\n      <td>3.1</td>\n      <td>1.5</td>\n      <td>0.2</td>\n      <td>setosa</td>\n    </tr>\n    <tr>\n      <th>4</th>\n      <td>5.0</td>\n      <td>3.6</td>\n      <td>1.4</td>\n      <td>0.2</td>\n      <td>setosa</td>\n    </tr>\n  </tbody>\n</table>\n</div>",
            "text/plain": "   sepal_length  sepal_width  petal_length  petal_width species\n0           5.1          3.5           1.4          0.2  setosa\n1           4.9          3.0           1.4          0.2  setosa\n2           4.7          3.2           1.3          0.2  setosa\n3           4.6          3.1           1.5          0.2  setosa\n4           5.0          3.6           1.4          0.2  setosa"
          },
          "metadata": {}
        }
      ]
    },
    {
      "metadata": {
        "trusted": true,
        "scrolled": true
      },
      "cell_type": "code",
      "source": "iris.describe()  #quick stat summary of data",
      "execution_count": 8,
      "outputs": [
        {
          "output_type": "execute_result",
          "execution_count": 8,
          "data": {
            "text/html": "<div>\n<table border=\"1\" class=\"dataframe\">\n  <thead>\n    <tr style=\"text-align: right;\">\n      <th></th>\n      <th>sepal_length</th>\n      <th>sepal_width</th>\n      <th>petal_length</th>\n      <th>petal_width</th>\n    </tr>\n  </thead>\n  <tbody>\n    <tr>\n      <th>count</th>\n      <td>150.000000</td>\n      <td>150.000000</td>\n      <td>150.000000</td>\n      <td>150.000000</td>\n    </tr>\n    <tr>\n      <th>mean</th>\n      <td>5.843333</td>\n      <td>3.057333</td>\n      <td>3.758000</td>\n      <td>1.199333</td>\n    </tr>\n    <tr>\n      <th>std</th>\n      <td>0.828066</td>\n      <td>0.435866</td>\n      <td>1.765298</td>\n      <td>0.762238</td>\n    </tr>\n    <tr>\n      <th>min</th>\n      <td>4.300000</td>\n      <td>2.000000</td>\n      <td>1.000000</td>\n      <td>0.100000</td>\n    </tr>\n    <tr>\n      <th>25%</th>\n      <td>5.100000</td>\n      <td>2.800000</td>\n      <td>1.600000</td>\n      <td>0.300000</td>\n    </tr>\n    <tr>\n      <th>50%</th>\n      <td>5.800000</td>\n      <td>3.000000</td>\n      <td>4.350000</td>\n      <td>1.300000</td>\n    </tr>\n    <tr>\n      <th>75%</th>\n      <td>6.400000</td>\n      <td>3.300000</td>\n      <td>5.100000</td>\n      <td>1.800000</td>\n    </tr>\n    <tr>\n      <th>max</th>\n      <td>7.900000</td>\n      <td>4.400000</td>\n      <td>6.900000</td>\n      <td>2.500000</td>\n    </tr>\n  </tbody>\n</table>\n</div>",
            "text/plain": "       sepal_length  sepal_width  petal_length  petal_width\ncount    150.000000   150.000000    150.000000   150.000000\nmean       5.843333     3.057333      3.758000     1.199333\nstd        0.828066     0.435866      1.765298     0.762238\nmin        4.300000     2.000000      1.000000     0.100000\n25%        5.100000     2.800000      1.600000     0.300000\n50%        5.800000     3.000000      4.350000     1.300000\n75%        6.400000     3.300000      5.100000     1.800000\nmax        7.900000     4.400000      6.900000     2.500000"
          },
          "metadata": {}
        }
      ]
    },
    {
      "metadata": {
        "trusted": true
      },
      "cell_type": "code",
      "source": "iris.groupby('sepal_length').size()",
      "execution_count": 11,
      "outputs": [
        {
          "output_type": "execute_result",
          "execution_count": 11,
          "data": {
            "text/plain": "sepal_length\n4.3     1\n4.4     3\n4.5     1\n4.6     4\n4.7     2\n4.8     5\n4.9     6\n5.0    10\n5.1     9\n5.2     4\n5.3     1\n5.4     6\n5.5     7\n5.6     6\n5.7     8\n5.8     7\n5.9     3\n6.0     6\n6.1     6\n6.2     4\n6.3     9\n6.4     7\n6.5     5\n6.6     2\n6.7     8\n6.8     3\n6.9     4\n7.0     1\n7.1     1\n7.2     3\n7.3     1\n7.4     1\n7.6     1\n7.7     4\n7.9     1\ndtype: int64"
          },
          "metadata": {}
        }
      ]
    },
    {
      "metadata": {
        "trusted": true
      },
      "cell_type": "code",
      "source": "iris.groupby('sepal_width').size()",
      "execution_count": 12,
      "outputs": [
        {
          "output_type": "execute_result",
          "execution_count": 12,
          "data": {
            "text/plain": "sepal_width\n2.0     1\n2.2     3\n2.3     4\n2.4     3\n2.5     8\n2.6     5\n2.7     9\n2.8    14\n2.9    10\n3.0    26\n3.1    11\n3.2    13\n3.3     6\n3.4    12\n3.5     6\n3.6     4\n3.7     3\n3.8     6\n3.9     2\n4.0     1\n4.1     1\n4.2     1\n4.4     1\ndtype: int64"
          },
          "metadata": {}
        }
      ]
    },
    {
      "metadata": {
        "trusted": true
      },
      "cell_type": "code",
      "source": "iris.groupby('petal_length').size()",
      "execution_count": 14,
      "outputs": [
        {
          "output_type": "execute_result",
          "execution_count": 14,
          "data": {
            "text/plain": "petal_length\n1.0     1\n1.1     1\n1.2     2\n1.3     7\n1.4    13\n1.5    13\n1.6     7\n1.7     4\n1.9     2\n3.0     1\n3.3     2\n3.5     2\n3.6     1\n3.7     1\n3.8     1\n3.9     3\n4.0     5\n4.1     3\n4.2     4\n4.3     2\n4.4     4\n4.5     8\n4.6     3\n4.7     5\n4.8     4\n4.9     5\n5.0     4\n5.1     8\n5.2     2\n5.3     2\n5.4     2\n5.5     3\n5.6     6\n5.7     3\n5.8     3\n5.9     2\n6.0     2\n6.1     3\n6.3     1\n6.4     1\n6.6     1\n6.7     2\n6.9     1\ndtype: int64"
          },
          "metadata": {}
        }
      ]
    },
    {
      "metadata": {
        "trusted": true
      },
      "cell_type": "code",
      "source": "iris.groupby('petal_width').size()",
      "execution_count": 15,
      "outputs": [
        {
          "output_type": "execute_result",
          "execution_count": 15,
          "data": {
            "text/plain": "petal_width\n0.1     5\n0.2    29\n0.3     7\n0.4     7\n0.5     1\n0.6     1\n1.0     7\n1.1     3\n1.2     5\n1.3    13\n1.4     8\n1.5    12\n1.6     4\n1.7     2\n1.8    12\n1.9     5\n2.0     6\n2.1     6\n2.2     3\n2.3     8\n2.4     3\n2.5     3\ndtype: int64"
          },
          "metadata": {}
        }
      ]
    },
    {
      "metadata": {
        "trusted": true
      },
      "cell_type": "code",
      "source": "iris.groupby('species').size()",
      "execution_count": 16,
      "outputs": [
        {
          "output_type": "execute_result",
          "execution_count": 16,
          "data": {
            "text/plain": "species\nsetosa        50\nversicolor    50\nvirginica     50\ndtype: int64"
          },
          "metadata": {}
        }
      ]
    },
    {
      "metadata": {
        "trusted": true
      },
      "cell_type": "code",
      "source": "iris.plot(kind = 'bar',sharex=False, sharey=False, subplots=True, layout=(10,10))",
      "execution_count": 44,
      "outputs": [
        {
          "output_type": "execute_result",
          "execution_count": 44,
          "data": {
            "text/plain": "array([[<matplotlib.axes._subplots.AxesSubplot object at 0x7fbf66aca080>,\n        <matplotlib.axes._subplots.AxesSubplot object at 0x7fbf663b3cf8>,\n        <matplotlib.axes._subplots.AxesSubplot object at 0x7fbf6038b048>,\n        <matplotlib.axes._subplots.AxesSubplot object at 0x7fbf60731780>,\n        <matplotlib.axes._subplots.AxesSubplot object at 0x7fbf6074d748>,\n        <matplotlib.axes._subplots.AxesSubplot object at 0x7fbf60a562b0>,\n        <matplotlib.axes._subplots.AxesSubplot object at 0x7fbf60b36320>,\n        <matplotlib.axes._subplots.AxesSubplot object at 0x7fbf60b19710>,\n        <matplotlib.axes._subplots.AxesSubplot object at 0x7fbf60f38ac8>,\n        <matplotlib.axes._subplots.AxesSubplot object at 0x7fbf60b1ee48>],\n       [<matplotlib.axes._subplots.AxesSubplot object at 0x7fbf6136c518>,\n        <matplotlib.axes._subplots.AxesSubplot object at 0x7fbf61696470>,\n        <matplotlib.axes._subplots.AxesSubplot object at 0x7fbf6177eac8>,\n        <matplotlib.axes._subplots.AxesSubplot object at 0x7fbf617cd0f0>,\n        <matplotlib.axes._subplots.AxesSubplot object at 0x7fbf61aeba20>,\n        <matplotlib.axes._subplots.AxesSubplot object at 0x7fbf61b869e8>,\n        <matplotlib.axes._subplots.AxesSubplot object at 0x7fbf61e81ba8>,\n        <matplotlib.axes._subplots.AxesSubplot object at 0x7fbf61f6eeb8>,\n        <matplotlib.axes._subplots.AxesSubplot object at 0x7fbf62ae0dd8>,\n        <matplotlib.axes._subplots.AxesSubplot object at 0x7fbf62b69fd0>],\n       [<matplotlib.axes._subplots.AxesSubplot object at 0x7fbf62bc1d68>,\n        <matplotlib.axes._subplots.AxesSubplot object at 0x7fbf62f2fbe0>,\n        <matplotlib.axes._subplots.AxesSubplot object at 0x7fbf62ee49b0>,\n        <matplotlib.axes._subplots.AxesSubplot object at 0x7fbf65aedb70>,\n        <matplotlib.axes._subplots.AxesSubplot object at 0x7fbf64bb2860>,\n        <matplotlib.axes._subplots.AxesSubplot object at 0x7fbf63f7d550>,\n        <matplotlib.axes._subplots.AxesSubplot object at 0x7fbf62fde390>,\n        <matplotlib.axes._subplots.AxesSubplot object at 0x7fbf63663f98>,\n        <matplotlib.axes._subplots.AxesSubplot object at 0x7fbf66e97fd0>,\n        <matplotlib.axes._subplots.AxesSubplot object at 0x7fbf5fb82898>],\n       [<matplotlib.axes._subplots.AxesSubplot object at 0x7fbf5fba4dd8>,\n        <matplotlib.axes._subplots.AxesSubplot object at 0x7fbf5fb47208>,\n        <matplotlib.axes._subplots.AxesSubplot object at 0x7fbf5fb6a198>,\n        <matplotlib.axes._subplots.AxesSubplot object at 0x7fbf5fb0f198>,\n        <matplotlib.axes._subplots.AxesSubplot object at 0x7fbf5fb316d8>,\n        <matplotlib.axes._subplots.AxesSubplot object at 0x7fbf5fb38c18>,\n        <matplotlib.axes._subplots.AxesSubplot object at 0x7fbf5faf3c88>,\n        <matplotlib.axes._subplots.AxesSubplot object at 0x7fbf5fa97c88>,\n        <matplotlib.axes._subplots.AxesSubplot object at 0x7fbf5fabf198>,\n        <matplotlib.axes._subplots.AxesSubplot object at 0x7fbf5fa65128>],\n       [<matplotlib.axes._subplots.AxesSubplot object at 0x7fbf5f7c0668>,\n        <matplotlib.axes._subplots.AxesSubplot object at 0x7fbf5f7e3588>,\n        <matplotlib.axes._subplots.AxesSubplot object at 0x7fbf5f7f6860>,\n        <matplotlib.axes._subplots.AxesSubplot object at 0x7fbf5f7ac518>,\n        <matplotlib.axes._subplots.AxesSubplot object at 0x7fbf5f7eaf60>,\n        <matplotlib.axes._subplots.AxesSubplot object at 0x7fbf5f770128>,\n        <matplotlib.axes._subplots.AxesSubplot object at 0x7fbf5f713588>,\n        <matplotlib.axes._subplots.AxesSubplot object at 0x7fbf5f738588>,\n        <matplotlib.axes._subplots.AxesSubplot object at 0x7fbf5f6db518>,\n        <matplotlib.axes._subplots.AxesSubplot object at 0x7fbf5f6f5b38>],\n       [<matplotlib.axes._subplots.AxesSubplot object at 0x7fbf5f69bf98>,\n        <matplotlib.axes._subplots.AxesSubplot object at 0x7fbf5f6bef98>,\n        <matplotlib.axes._subplots.AxesSubplot object at 0x7fbf5f65ff28>,\n        <matplotlib.axes._subplots.AxesSubplot object at 0x7fbf5f3c4b38>,\n        <matplotlib.axes._subplots.AxesSubplot object at 0x7fbf5f3e6ba8>,\n        <matplotlib.axes._subplots.AxesSubplot object at 0x7fbf5f38bba8>,\n        <matplotlib.axes._subplots.AxesSubplot object at 0x7fbf5f3aeba8>,\n        <matplotlib.axes._subplots.AxesSubplot object at 0x7fbf5f395b70>,\n        <matplotlib.axes._subplots.AxesSubplot object at 0x7fbf5f375748>,\n        <matplotlib.axes._subplots.AxesSubplot object at 0x7fbf5f319748>],\n       [<matplotlib.axes._subplots.AxesSubplot object at 0x7fbf5f33d668>,\n        <matplotlib.axes._subplots.AxesSubplot object at 0x7fbf5f2e2ba8>,\n        <matplotlib.axes._subplots.AxesSubplot object at 0x7fbf5f2820b8>,\n        <matplotlib.axes._subplots.AxesSubplot object at 0x7fbf5f2a60b8>,\n        <matplotlib.axes._subplots.AxesSubplot object at 0x7fbf5f241f98>,\n        <matplotlib.axes._subplots.AxesSubplot object at 0x7fbf5f26e518>,\n        <matplotlib.axes._subplots.AxesSubplot object at 0x7fbf5efc5a58>,\n        <matplotlib.axes._subplots.AxesSubplot object at 0x7fbf5efee978>,\n        <matplotlib.axes._subplots.AxesSubplot object at 0x7fbf5ef93978>,\n        <matplotlib.axes._subplots.AxesSubplot object at 0x7fbf5efb3e48>],\n       [<matplotlib.axes._subplots.AxesSubplot object at 0x7fbf5efbd780>,\n        <matplotlib.axes._subplots.AxesSubplot object at 0x7fbf5ef7a518>,\n        <matplotlib.axes._subplots.AxesSubplot object at 0x7fbf5ef1f518>,\n        <matplotlib.axes._subplots.AxesSubplot object at 0x7fbf5eec29e8>,\n        <matplotlib.axes._subplots.AxesSubplot object at 0x7fbf5eee6908>,\n        <matplotlib.axes._subplots.AxesSubplot object at 0x7fbf5eeffeb8>,\n        <matplotlib.axes._subplots.AxesSubplot object at 0x7fbf5eea5e48>,\n        <matplotlib.axes._subplots.AxesSubplot object at 0x7fbf5eeba8d0>,\n        <matplotlib.axes._subplots.AxesSubplot object at 0x7fbf5ee6dd68>,\n        <matplotlib.axes._subplots.AxesSubplot object at 0x7fbf5ee51eb8>],\n       [<matplotlib.axes._subplots.AxesSubplot object at 0x7fbf5ebf4ac8>,\n        <matplotlib.axes._subplots.AxesSubplot object at 0x7fbf5eb99ac8>,\n        <matplotlib.axes._subplots.AxesSubplot object at 0x7fbf5ebbcac8>,\n        <matplotlib.axes._subplots.AxesSubplot object at 0x7fbf5eb5ef28>,\n        <matplotlib.axes._subplots.AxesSubplot object at 0x7fbf5e5c1588>,\n        <matplotlib.axes._subplots.AxesSubplot object at 0x7fbf5e5e5588>,\n        <matplotlib.axes._subplots.AxesSubplot object at 0x7fbf5e58a518>,\n        <matplotlib.axes._subplots.AxesSubplot object at 0x7fbf5e5ad9e8>,\n        <matplotlib.axes._subplots.AxesSubplot object at 0x7fbf5e544eb8>,\n        <matplotlib.axes._subplots.AxesSubplot object at 0x7fbf5e56cdd8>],\n       [<matplotlib.axes._subplots.AxesSubplot object at 0x7fbf5e50edd8>,\n        <matplotlib.axes._subplots.AxesSubplot object at 0x7fbf5e53a2e8>,\n        <matplotlib.axes._subplots.AxesSubplot object at 0x7fbf5e4c07b8>,\n        <matplotlib.axes._subplots.AxesSubplot object at 0x7fbf5e4fa978>,\n        <matplotlib.axes._subplots.AxesSubplot object at 0x7fbf5e49f978>,\n        <matplotlib.axes._subplots.AxesSubplot object at 0x7fbf5e1c1e48>,\n        <matplotlib.axes._subplots.AxesSubplot object at 0x7fbf5e1e4d68>,\n        <matplotlib.axes._subplots.AxesSubplot object at 0x7fbf5e188358>,\n        <matplotlib.axes._subplots.AxesSubplot object at 0x7fbf5e1ac2e8>,\n        <matplotlib.axes._subplots.AxesSubplot object at 0x7fbf5e1be5c0>]],\n      dtype=object)"
          },
          "metadata": {}
        },
        {
          "output_type": "display_data",
          "data": {
            "image/png": "[encoded data removed]",
            "text/plain": "<matplotlib.figure.Figure at 0x7fbf65b0f5f8>"
          },
          "metadata": {}
        }
      ]
    },
    {
      "metadata": {
        "trusted": true
      },
      "cell_type": "code",
      "source": "iris.plot(kind='box', sharex=False, sharey=False, subplots= True, layout=(2,2) )",
      "execution_count": 15,
      "outputs": [
        {
          "output_type": "execute_result",
          "execution_count": 15,
          "data": {
            "text/plain": "sepal_length       AxesSubplot(0.125,0.536818;0.352273x0.343182)\nsepal_width     AxesSubplot(0.547727,0.536818;0.352273x0.343182)\npetal_length          AxesSubplot(0.125,0.125;0.352273x0.343182)\npetal_width        AxesSubplot(0.547727,0.125;0.352273x0.343182)\ndtype: object"
          },
          "metadata": {}
        },
        {
          "output_type": "display_data",
          "data": {
            "image/png": "[encoded data removed]",
            "text/plain": "<matplotlib.figure.Figure at 0x7f9b07be1f98>"
          },
          "metadata": {}
        }
      ]
    },
    {
      "metadata": {
        "trusted": true
      },
      "cell_type": "code",
      "source": "sns.boxplot(data=iris)",
      "execution_count": 7,
      "outputs": [
        {
          "output_type": "execute_result",
          "execution_count": 7,
          "data": {
            "text/plain": "<matplotlib.axes._subplots.AxesSubplot at 0x7f9b09c9d128>"
          },
          "metadata": {}
        },
        {
          "output_type": "display_data",
          "data": {
            "image/png": "[encoded data removed]",
            "text/plain": "<matplotlib.figure.Figure at 0x7f9b09ca00f0>"
          },
          "metadata": {}
        }
      ]
    },
    {
      "metadata": {
        "trusted": true,
        "scrolled": true
      },
      "cell_type": "code",
      "source": "iris.hist()",
      "execution_count": 20,
      "outputs": [
        {
          "output_type": "execute_result",
          "execution_count": 20,
          "data": {
            "text/plain": "array([[<matplotlib.axes._subplots.AxesSubplot object at 0x7f9ad51bf5f8>,\n        <matplotlib.axes._subplots.AxesSubplot object at 0x7f9ad49c5400>],\n       [<matplotlib.axes._subplots.AxesSubplot object at 0x7f9ac7d8bb00>,\n        <matplotlib.axes._subplots.AxesSubplot object at 0x7f9ac7d51940>]],\n      dtype=object)"
          },
          "metadata": {}
        },
        {
          "output_type": "display_data",
          "data": {
            "image/png": "[encoded data removed]",
            "text/plain": "<matplotlib.figure.Figure at 0x7f9b07b61780>"
          },
          "metadata": {}
        }
      ]
    },
    {
      "metadata": {
        "trusted": true
      },
      "cell_type": "code",
      "source": "#splitting our data into training & testing data \narray = iris.values   #sets the dataset into a 2d array \nX = array[:,0:4] #grabs the 4 columns of data\nY = array[:,4]  #the data we are predicting, the last column, species \n\n#validation_size = 0.20  #using 20% of the data set to validate \n\n#plitting data into training and validation \n#X's = the features for input for the model \n#Y's = expected outcomes \n\nX_train, X_validation, Y_train, Y_validation = model_selection.train_test_split(X, Y, test_size=0.2, random_state = 1)\n\nprint(X_train.shape, Y_train.shape)\nprint(X_validation.shape, Y_validation.shape)",
      "execution_count": 12,
      "outputs": [
        {
          "output_type": "stream",
          "text": "(120, 4) (120,)\n(30, 4) (30,)\n",
          "name": "stdout"
        }
      ]
    },
    {
      "metadata": {
        "trusted": true
      },
      "cell_type": "code",
      "source": "#LR: logistic regression, LDA: Linear Discriminant Analysis, KNN: K-nearest neighbors\n#CART: classification and Regression Trees, NB: Gaussian Naive Bayes, SVM: Support vector Machines\nmodels = []\nmodels.append(('LR', sklearn.linear_model.LogisticRegression(solver='liblinear', multi_class='ovr')))\nmodels.append(('LDA', LinearDiscriminantAnalysis()))\nmodels.append(('KNN', KNeighborsClassifier()))\nmodels.append(('CART', DecisionTreeClassifier()))\nmodels.append(('NB', GaussianNB()))\nmodels.append(('SVM', SVC(gamma='auto')))\n\nresults = []\nnames = []\nfor name, model in models:\n    kfold = StratifiedKFold(n_splits=10, random_state=1, shuffle=True)\n    cv_results = cross_val_score(model, X_train, Y_train, cv=kfold, scoring='accuracy')\n    results.append(cv_results)\n    names.append(name)\n    print('%s: %f (%f)' % (name, cv_results.mean(), cv_results.std()))",
      "execution_count": 40,
      "outputs": [
        {
          "output_type": "stream",
          "text": "LR: 0.955909 (0.044337)\nLDA: 0.975641 (0.037246)\nKNN: 0.950524 (0.040563)\nCART: 0.951166 (0.052812)\nNB: 0.951166 (0.052812)\nSVM: 0.983333 (0.033333)\n",
          "name": "stdout"
        }
      ]
    },
    {
      "metadata": {
        "trusted": true
      },
      "cell_type": "code",
      "source": "pyplot.boxplot(results, labels=names)\npyplot.title('Algorithm Comparison')\npyplot.show()",
      "execution_count": 35,
      "outputs": [
        {
          "output_type": "display_data",
          "data": {
            "image/png": "[encoded data removed]",
            "text/plain": "<matplotlib.figure.Figure at 0x7fbf90c92a20>"
          },
          "metadata": {}
        }
      ]
    },
    {
      "metadata": {
        "trusted": true
      },
      "cell_type": "code",
      "source": "model = SVC(gamma='auto')\nmodel.fit(X_train, Y_train)  #fit the training algs\npredictions = model.predict(X_validation)    #make a prediction based of X validations",
      "execution_count": 26,
      "outputs": []
    },
    {
      "metadata": {
        "trusted": true
      },
      "cell_type": "code",
      "source": "print(accuracy_score(Y_validation, predictions))  #provide an accuracy score based on similarity \nprint(confusion_matrix(Y_validation, predictions))  \nprint(classification_report(Y_validation, predictions))  ",
      "execution_count": 38,
      "outputs": [
        {
          "output_type": "stream",
          "text": "0.9666666666666667\n[[11  0  0]\n [ 0 12  1]\n [ 0  0  6]]\n             precision    recall  f1-score   support\n\n     setosa       1.00      1.00      1.00        11\n versicolor       1.00      0.92      0.96        13\n  virginica       0.86      1.00      0.92         6\n\navg / total       0.97      0.97      0.97        30\n\n",
          "name": "stdout"
        }
      ]
    },
    {
      "metadata": {
        "trusted": true
      },
      "cell_type": "code",
      "source": "",
      "execution_count": null,
      "outputs": []
    }
  ],
  "metadata": {
    "kernelspec": {
      "name": "python3",
      "display_name": "Python 3",
      "language": "python"
    },
    "language_info": {
      "mimetype": "text/x-python",
      "nbconvert_exporter": "python",
      "name": "python",
      "pygments_lexer": "ipython3",
      "version": "3.5.4",
      "file_extension": ".py",
      "codemirror_mode": {
        "version": 3,
        "name": "ipython"
      }
    }
  },
  "nbformat": 4,
  "nbformat_minor": 1
}